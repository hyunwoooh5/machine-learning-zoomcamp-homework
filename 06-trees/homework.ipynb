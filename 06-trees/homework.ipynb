{
 "cells": [
  {
   "cell_type": "code",
   "execution_count": 28,
   "id": "f144e4f0",
   "metadata": {},
   "outputs": [],
   "source": [
    "import numpy as np\n",
    "import pandas as pd\n",
    "import matplotlib.pyplot as plt\n",
    "import sklearn\n",
    "import seaborn as sns\n",
    "import xgboost as xgb"
   ]
  },
  {
   "cell_type": "code",
   "execution_count": 2,
   "id": "c58a833d",
   "metadata": {},
   "outputs": [
    {
     "name": "stdout",
     "output_type": "stream",
     "text": [
      "--2025-09-17 20:18:11--  https://github.com/alexeygrigorev/datasets/raw/refs/heads/master/jamb_exam_results.csv\n",
      "Resolving github.com (github.com)... 140.82.113.4\n",
      "Connecting to github.com (github.com)|140.82.113.4|:443... connected.\n",
      "HTTP request sent, awaiting response... 302 Found\n",
      "Location: https://raw.githubusercontent.com/alexeygrigorev/datasets/refs/heads/master/jamb_exam_results.csv [following]\n",
      "--2025-09-17 20:18:11--  https://raw.githubusercontent.com/alexeygrigorev/datasets/refs/heads/master/jamb_exam_results.csv\n",
      "Resolving raw.githubusercontent.com (raw.githubusercontent.com)... 185.199.111.133, 185.199.108.133, 185.199.110.133, ...\n",
      "Connecting to raw.githubusercontent.com (raw.githubusercontent.com)|185.199.111.133|:443... connected.\n",
      "HTTP request sent, awaiting response... 200 OK\n",
      "Length: 391501 (382K) [text/plain]\n",
      "Saving to: ‘jamb_exam_results.csv’\n",
      "\n",
      "jamb_exam_results.c 100%[===================>] 382.33K  --.-KB/s    in 0.005s  \n",
      "\n",
      "2025-09-17 20:18:11 (74.3 MB/s) - ‘jamb_exam_results.csv’ saved [391501/391501]\n",
      "\n"
     ]
    }
   ],
   "source": [
    "!wget https://github.com/alexeygrigorev/datasets/raw/refs/heads/master/jamb_exam_results.csv"
   ]
  },
  {
   "cell_type": "markdown",
   "id": "893c4bd3",
   "metadata": {},
   "source": [
    "# Data preparation\n",
    "\n",
    "* Remove the `student_id` column.\n",
    "* Fill missing values with zeros.\n",
    "* Do train/validation/test split with 60%/20%/20% distribution. \n",
    "* Use the `train_test_split` function and set the `random_state` parameter to 1.\n",
    "* Use `DictVectorizer(sparse=True)` to turn the dataframes into matrices."
   ]
  },
  {
   "cell_type": "code",
   "execution_count": 16,
   "id": "688d957e",
   "metadata": {},
   "outputs": [
    {
     "data": {
      "text/html": [
       "<div>\n",
       "<style scoped>\n",
       "    .dataframe tbody tr th:only-of-type {\n",
       "        vertical-align: middle;\n",
       "    }\n",
       "\n",
       "    .dataframe tbody tr th {\n",
       "        vertical-align: top;\n",
       "    }\n",
       "\n",
       "    .dataframe thead th {\n",
       "        text-align: right;\n",
       "    }\n",
       "</style>\n",
       "<table border=\"1\" class=\"dataframe\">\n",
       "  <thead>\n",
       "    <tr style=\"text-align: right;\">\n",
       "      <th></th>\n",
       "      <th>JAMB_Score</th>\n",
       "      <th>Study_Hours_Per_Week</th>\n",
       "      <th>Attendance_Rate</th>\n",
       "      <th>Teacher_Quality</th>\n",
       "      <th>Distance_To_School</th>\n",
       "      <th>School_Type</th>\n",
       "      <th>School_Location</th>\n",
       "      <th>Extra_Tutorials</th>\n",
       "      <th>Access_To_Learning_Materials</th>\n",
       "      <th>Parent_Involvement</th>\n",
       "      <th>IT_Knowledge</th>\n",
       "      <th>Student_ID</th>\n",
       "      <th>Age</th>\n",
       "      <th>Gender</th>\n",
       "      <th>Socioeconomic_Status</th>\n",
       "      <th>Parent_Education_Level</th>\n",
       "      <th>Assignments_Completed</th>\n",
       "    </tr>\n",
       "  </thead>\n",
       "  <tbody>\n",
       "    <tr>\n",
       "      <th>0</th>\n",
       "      <td>192</td>\n",
       "      <td>22</td>\n",
       "      <td>78</td>\n",
       "      <td>4</td>\n",
       "      <td>12.4</td>\n",
       "      <td>Public</td>\n",
       "      <td>Urban</td>\n",
       "      <td>Yes</td>\n",
       "      <td>Yes</td>\n",
       "      <td>High</td>\n",
       "      <td>Medium</td>\n",
       "      <td>1</td>\n",
       "      <td>17</td>\n",
       "      <td>Male</td>\n",
       "      <td>Low</td>\n",
       "      <td>Tertiary</td>\n",
       "      <td>2</td>\n",
       "    </tr>\n",
       "    <tr>\n",
       "      <th>1</th>\n",
       "      <td>207</td>\n",
       "      <td>14</td>\n",
       "      <td>88</td>\n",
       "      <td>4</td>\n",
       "      <td>2.7</td>\n",
       "      <td>Public</td>\n",
       "      <td>Rural</td>\n",
       "      <td>No</td>\n",
       "      <td>Yes</td>\n",
       "      <td>High</td>\n",
       "      <td>High</td>\n",
       "      <td>2</td>\n",
       "      <td>15</td>\n",
       "      <td>Male</td>\n",
       "      <td>High</td>\n",
       "      <td>NaN</td>\n",
       "      <td>1</td>\n",
       "    </tr>\n",
       "    <tr>\n",
       "      <th>2</th>\n",
       "      <td>182</td>\n",
       "      <td>29</td>\n",
       "      <td>87</td>\n",
       "      <td>2</td>\n",
       "      <td>9.6</td>\n",
       "      <td>Public</td>\n",
       "      <td>Rural</td>\n",
       "      <td>Yes</td>\n",
       "      <td>Yes</td>\n",
       "      <td>High</td>\n",
       "      <td>Medium</td>\n",
       "      <td>3</td>\n",
       "      <td>20</td>\n",
       "      <td>Female</td>\n",
       "      <td>High</td>\n",
       "      <td>Tertiary</td>\n",
       "      <td>2</td>\n",
       "    </tr>\n",
       "    <tr>\n",
       "      <th>3</th>\n",
       "      <td>210</td>\n",
       "      <td>29</td>\n",
       "      <td>99</td>\n",
       "      <td>2</td>\n",
       "      <td>2.6</td>\n",
       "      <td>Public</td>\n",
       "      <td>Urban</td>\n",
       "      <td>No</td>\n",
       "      <td>Yes</td>\n",
       "      <td>Medium</td>\n",
       "      <td>High</td>\n",
       "      <td>4</td>\n",
       "      <td>22</td>\n",
       "      <td>Female</td>\n",
       "      <td>Medium</td>\n",
       "      <td>Tertiary</td>\n",
       "      <td>1</td>\n",
       "    </tr>\n",
       "    <tr>\n",
       "      <th>4</th>\n",
       "      <td>199</td>\n",
       "      <td>12</td>\n",
       "      <td>98</td>\n",
       "      <td>3</td>\n",
       "      <td>8.8</td>\n",
       "      <td>Public</td>\n",
       "      <td>Urban</td>\n",
       "      <td>No</td>\n",
       "      <td>Yes</td>\n",
       "      <td>Medium</td>\n",
       "      <td>Medium</td>\n",
       "      <td>5</td>\n",
       "      <td>22</td>\n",
       "      <td>Female</td>\n",
       "      <td>Medium</td>\n",
       "      <td>Tertiary</td>\n",
       "      <td>1</td>\n",
       "    </tr>\n",
       "  </tbody>\n",
       "</table>\n",
       "</div>"
      ],
      "text/plain": [
       "   JAMB_Score  Study_Hours_Per_Week  Attendance_Rate  Teacher_Quality  \\\n",
       "0         192                    22               78                4   \n",
       "1         207                    14               88                4   \n",
       "2         182                    29               87                2   \n",
       "3         210                    29               99                2   \n",
       "4         199                    12               98                3   \n",
       "\n",
       "   Distance_To_School School_Type School_Location Extra_Tutorials  \\\n",
       "0                12.4      Public           Urban             Yes   \n",
       "1                 2.7      Public           Rural              No   \n",
       "2                 9.6      Public           Rural             Yes   \n",
       "3                 2.6      Public           Urban              No   \n",
       "4                 8.8      Public           Urban              No   \n",
       "\n",
       "  Access_To_Learning_Materials Parent_Involvement IT_Knowledge  Student_ID  \\\n",
       "0                          Yes               High       Medium           1   \n",
       "1                          Yes               High         High           2   \n",
       "2                          Yes               High       Medium           3   \n",
       "3                          Yes             Medium         High           4   \n",
       "4                          Yes             Medium       Medium           5   \n",
       "\n",
       "   Age  Gender Socioeconomic_Status Parent_Education_Level  \\\n",
       "0   17    Male                  Low               Tertiary   \n",
       "1   15    Male                 High                    NaN   \n",
       "2   20  Female                 High               Tertiary   \n",
       "3   22  Female               Medium               Tertiary   \n",
       "4   22  Female               Medium               Tertiary   \n",
       "\n",
       "   Assignments_Completed  \n",
       "0                      2  \n",
       "1                      1  \n",
       "2                      2  \n",
       "3                      1  \n",
       "4                      1  "
      ]
     },
     "execution_count": 16,
     "metadata": {},
     "output_type": "execute_result"
    }
   ],
   "source": [
    "df=pd.read_csv(\"jamb_exam_results.csv\")\n",
    "\n",
    "df.head(5)"
   ]
  },
  {
   "cell_type": "code",
   "execution_count": 9,
   "id": "859bbae5",
   "metadata": {},
   "outputs": [
    {
     "data": {
      "text/plain": [
       "JAMB_Score                        0\n",
       "Study_Hours_Per_Week              0\n",
       "Attendance_Rate                   0\n",
       "Teacher_Quality                   0\n",
       "Distance_To_School                0\n",
       "School_Type                       0\n",
       "School_Location                   0\n",
       "Extra_Tutorials                   0\n",
       "Access_To_Learning_Materials      0\n",
       "Parent_Involvement                0\n",
       "IT_Knowledge                      0\n",
       "Student_ID                        0\n",
       "Age                               0\n",
       "Gender                            0\n",
       "Socioeconomic_Status              0\n",
       "Parent_Education_Level          891\n",
       "Assignments_Completed             0\n",
       "dtype: int64"
      ]
     },
     "execution_count": 9,
     "metadata": {},
     "output_type": "execute_result"
    }
   ],
   "source": [
    "df.isnull().sum()"
   ]
  },
  {
   "cell_type": "code",
   "execution_count": 17,
   "id": "bb7b9e60",
   "metadata": {},
   "outputs": [],
   "source": [
    "from sklearn.model_selection import train_test_split\n",
    "\n",
    "df.columns = df.columns.str.lower().str.replace(' ', '_')\n",
    "\n",
    "df.fillna(0, inplace=True)\n",
    "\n",
    "del df['student_id']\n",
    "\n",
    "df_full_train, df_test = train_test_split(df, test_size=0.2, random_state=1)\n",
    "df_train, df_val = train_test_split(df_full_train, test_size=0.25, random_state=1)\n",
    "\n",
    "y_train = df_train['jamb_score'].values\n",
    "y_val = df_val['jamb_score'].values\n",
    "y_test = df_test['jamb_score'].values\n",
    "\n",
    "del df_train['jamb_score']\n",
    "del df_val['jamb_score']\n",
    "del df_test['jamb_score']"
   ]
  },
  {
   "cell_type": "code",
   "execution_count": 18,
   "id": "7f805008",
   "metadata": {},
   "outputs": [
    {
     "data": {
      "text/plain": [
       "jamb_score                      0\n",
       "study_hours_per_week            0\n",
       "attendance_rate                 0\n",
       "teacher_quality                 0\n",
       "distance_to_school              0\n",
       "school_type                     0\n",
       "school_location                 0\n",
       "extra_tutorials                 0\n",
       "access_to_learning_materials    0\n",
       "parent_involvement              0\n",
       "it_knowledge                    0\n",
       "age                             0\n",
       "gender                          0\n",
       "socioeconomic_status            0\n",
       "parent_education_level          0\n",
       "assignments_completed           0\n",
       "dtype: int64"
      ]
     },
     "execution_count": 18,
     "metadata": {},
     "output_type": "execute_result"
    }
   ],
   "source": [
    "df.isnull().sum()"
   ]
  },
  {
   "cell_type": "code",
   "execution_count": 19,
   "id": "52015b12",
   "metadata": {},
   "outputs": [],
   "source": [
    "columns = df.columns\n",
    "\n",
    "categorical_columns = list(set(df.dtypes[(df.dtypes == 'object') & (df.columns != 'jamb_score')].index) & set(columns))\n",
    "numerical_columns = list(set(df.dtypes[(df.dtypes != 'object') & (df.columns != 'jamb_score')].index) & set(columns))"
   ]
  },
  {
   "cell_type": "code",
   "execution_count": 20,
   "id": "996fc790",
   "metadata": {},
   "outputs": [],
   "source": [
    "from sklearn.feature_extraction import DictVectorizer\n",
    "\n",
    "dv = DictVectorizer(sparse=True)\n",
    "\n",
    "train_dict = df_train[categorical_columns + numerical_columns].to_dict(orient='records')\n",
    "X_train = dv.fit_transform(train_dict)\n",
    "\n",
    "val_dict = df_val[categorical_columns + numerical_columns].to_dict(orient='records')\n",
    "X_val = dv.transform(val_dict)"
   ]
  },
  {
   "cell_type": "markdown",
   "id": "2f44a233",
   "metadata": {},
   "source": [
    "# Q1\n",
    "\n",
    "Let's train a decision tree regressor to predict the `jamb_score` variable. \n",
    "\n",
    "* Train a model with `max_depth=1`."
   ]
  },
  {
   "cell_type": "code",
   "execution_count": 21,
   "id": "87c29e2a",
   "metadata": {},
   "outputs": [
    {
     "name": "stdout",
     "output_type": "stream",
     "text": [
      "|--- study_hours_per_week <= 18.50\n",
      "|   |--- value: [155.24]\n",
      "|--- study_hours_per_week >  18.50\n",
      "|   |--- value: [188.59]\n",
      "\n"
     ]
    }
   ],
   "source": [
    "from sklearn.tree import DecisionTreeRegressor, export_text\n",
    "\n",
    "model = DecisionTreeRegressor(max_depth=1)\n",
    "model.fit(X_train, y_train)\n",
    "\n",
    "y_pred = model.predict(X_val)\n",
    "\n",
    "\n",
    "print(export_text(model, feature_names=list(dv.get_feature_names_out())))\n"
   ]
  },
  {
   "cell_type": "markdown",
   "id": "b162c83b",
   "metadata": {},
   "source": [
    "# Q2\n",
    "\n",
    "Train a random forest regressor with these parameters:\n",
    "\n",
    "* `n_estimators=10`\n",
    "* `random_state=1`\n",
    "* `n_jobs=-1` (optional - to make training faster)"
   ]
  },
  {
   "cell_type": "code",
   "execution_count": 23,
   "id": "1ba3db95",
   "metadata": {},
   "outputs": [
    {
     "data": {
      "text/plain": [
       "np.float64(42.13724207871227)"
      ]
     },
     "execution_count": 23,
     "metadata": {},
     "output_type": "execute_result"
    }
   ],
   "source": [
    "from sklearn.ensemble import RandomForestRegressor\n",
    "\n",
    "model = RandomForestRegressor(n_estimators=10, random_state=1, n_jobs=-1)\n",
    "model.fit(X_train, y_train)\n",
    "\n",
    "y_pred = model.predict(X_val)\n",
    "\n",
    "np.sqrt(np.mean((y_val-y_pred)**2))"
   ]
  },
  {
   "cell_type": "markdown",
   "id": "4519c6b3",
   "metadata": {},
   "source": [
    "# Q3\n",
    "\n",
    "Now let's experiment with the `n_estimators` parameter\n",
    "\n",
    "* Try different values of this parameter from 10 to 200 with step 10.\n",
    "* Set `random_state` to `1`.\n",
    "* Evaluate the model on the validation dataset."
   ]
  },
  {
   "cell_type": "code",
   "execution_count": 26,
   "id": "a77c8569",
   "metadata": {},
   "outputs": [
    {
     "name": "stdout",
     "output_type": "stream",
     "text": [
      "10: RMSE = 42.137\n",
      "20: RMSE = 41.461\n",
      "30: RMSE = 41.106\n",
      "40: RMSE = 40.917\n",
      "50: RMSE = 40.852\n",
      "60: RMSE = 40.784\n",
      "70: RMSE = 40.677\n",
      "80: RMSE = 40.539\n",
      "90: RMSE = 40.504\n",
      "100: RMSE = 40.517\n",
      "110: RMSE = 40.593\n",
      "120: RMSE = 40.625\n",
      "130: RMSE = 40.651\n",
      "140: RMSE = 40.595\n",
      "150: RMSE = 40.597\n",
      "160: RMSE = 40.604\n",
      "170: RMSE = 40.628\n",
      "180: RMSE = 40.641\n",
      "190: RMSE = 40.631\n",
      "200: RMSE = 40.601\n"
     ]
    }
   ],
   "source": [
    "for n in range(10, 201, 10):\n",
    "    model = RandomForestRegressor(n_estimators=n, random_state=1, n_jobs=-1)\n",
    "    model.fit(X_train, y_train)\n",
    "\n",
    "    y_pred = model.predict(X_val)\n",
    "\n",
    "    print(f\"{n}: RMSE = {np.sqrt(np.mean((y_val-y_pred)**2)):0.3f}\")"
   ]
  },
  {
   "cell_type": "markdown",
   "id": "bb8fce9a",
   "metadata": {},
   "source": [
    "# Q4\n",
    "\n",
    "Let's select the best `max_depth`:\n",
    "\n",
    "* Try different values of `max_depth`: `[10, 15, 20, 25]`\n",
    "* For each of these values,\n",
    "  * try different values of `n_estimators` from 10 till 200 (with step 10)\n",
    "  * calculate the mean RMSE \n",
    "* Fix the random seed: `random_state=1`"
   ]
  },
  {
   "cell_type": "code",
   "execution_count": 45,
   "id": "3fe656bf",
   "metadata": {},
   "outputs": [
    {
     "name": "stdout",
     "output_type": "stream",
     "text": [
      "d=10, n=10: RMSE = 41.258\n",
      "d=10, n=20: RMSE = 40.881\n",
      "d=10, n=30: RMSE = 40.625\n",
      "d=10, n=40: RMSE = 40.270\n",
      "d=10, n=50: RMSE = 40.317\n",
      "d=10, n=60: RMSE = 40.277\n",
      "d=10, n=70: RMSE = 40.285\n",
      "d=10, n=80: RMSE = 40.210\n",
      "d=10, n=90: RMSE = 40.174\n",
      "d=10, n=100: RMSE = 40.250\n",
      "d=10, n=110: RMSE = 40.286\n",
      "d=10, n=120: RMSE = 40.315\n",
      "d=10, n=130: RMSE = 40.329\n",
      "d=10, n=140: RMSE = 40.300\n",
      "d=10, n=150: RMSE = 40.314\n",
      "d=10, n=160: RMSE = 40.354\n",
      "d=10, n=170: RMSE = 40.360\n",
      "d=10, n=180: RMSE = 40.364\n",
      "d=10, n=190: RMSE = 40.354\n",
      "d=10, n=200: RMSE = 40.325\n",
      "d=15, n=10: RMSE = 42.004\n",
      "d=15, n=20: RMSE = 41.456\n",
      "d=15, n=30: RMSE = 41.168\n",
      "d=15, n=40: RMSE = 40.931\n",
      "d=15, n=50: RMSE = 40.783\n",
      "d=15, n=60: RMSE = 40.724\n",
      "d=15, n=70: RMSE = 40.689\n",
      "d=15, n=80: RMSE = 40.534\n",
      "d=15, n=90: RMSE = 40.497\n",
      "d=15, n=100: RMSE = 40.505\n",
      "d=15, n=110: RMSE = 40.531\n",
      "d=15, n=120: RMSE = 40.580\n",
      "d=15, n=130: RMSE = 40.558\n",
      "d=15, n=140: RMSE = 40.520\n",
      "d=15, n=150: RMSE = 40.529\n",
      "d=15, n=160: RMSE = 40.523\n",
      "d=15, n=170: RMSE = 40.534\n",
      "d=15, n=180: RMSE = 40.547\n",
      "d=15, n=190: RMSE = 40.550\n",
      "d=15, n=200: RMSE = 40.544\n",
      "d=20, n=10: RMSE = 42.025\n",
      "d=20, n=20: RMSE = 41.389\n",
      "d=20, n=30: RMSE = 41.116\n",
      "d=20, n=40: RMSE = 40.847\n",
      "d=20, n=50: RMSE = 40.809\n",
      "d=20, n=60: RMSE = 40.784\n",
      "d=20, n=70: RMSE = 40.654\n",
      "d=20, n=80: RMSE = 40.515\n",
      "d=20, n=90: RMSE = 40.493\n",
      "d=20, n=100: RMSE = 40.518\n",
      "d=20, n=110: RMSE = 40.573\n",
      "d=20, n=120: RMSE = 40.590\n",
      "d=20, n=130: RMSE = 40.589\n",
      "d=20, n=140: RMSE = 40.536\n",
      "d=20, n=150: RMSE = 40.537\n",
      "d=20, n=160: RMSE = 40.550\n",
      "d=20, n=170: RMSE = 40.564\n",
      "d=20, n=180: RMSE = 40.575\n",
      "d=20, n=190: RMSE = 40.582\n",
      "d=20, n=200: RMSE = 40.548\n",
      "d=25, n=10: RMSE = 42.160\n",
      "d=25, n=20: RMSE = 41.471\n",
      "d=25, n=30: RMSE = 41.125\n",
      "d=25, n=40: RMSE = 40.934\n",
      "d=25, n=50: RMSE = 40.867\n",
      "d=25, n=60: RMSE = 40.797\n",
      "d=25, n=70: RMSE = 40.687\n",
      "d=25, n=80: RMSE = 40.548\n",
      "d=25, n=90: RMSE = 40.513\n",
      "d=25, n=100: RMSE = 40.522\n",
      "d=25, n=110: RMSE = 40.592\n",
      "d=25, n=120: RMSE = 40.620\n",
      "d=25, n=130: RMSE = 40.646\n",
      "d=25, n=140: RMSE = 40.591\n",
      "d=25, n=150: RMSE = 40.593\n",
      "d=25, n=160: RMSE = 40.600\n",
      "d=25, n=170: RMSE = 40.624\n",
      "d=25, n=180: RMSE = 40.639\n",
      "d=25, n=190: RMSE = 40.629\n",
      "d=25, n=200: RMSE = 40.599\n"
     ]
    }
   ],
   "source": [
    "rmses = []\n",
    "\n",
    "for d in 10, 15, 20, 25:\n",
    "    rmse = []\n",
    "    for n in range(10, 201, 10):\n",
    "        model = RandomForestRegressor(n_estimators=n, random_state=1, max_depth=d, n_jobs=-1)\n",
    "        model.fit(X_train, y_train)\n",
    "\n",
    "        y_pred = model.predict(X_val)\n",
    "\n",
    "        print(f\"d={d}, n={n}: RMSE = {np.sqrt(np.mean((y_val-y_pred)**2)):0.3f}\")\n",
    "        rmse.append(np.sqrt(np.mean((y_val-y_pred)**2)))\n",
    "\n",
    "    rmses.append(rmse)"
   ]
  },
  {
   "cell_type": "code",
   "execution_count": 48,
   "id": "9bcbe963",
   "metadata": {},
   "outputs": [
    {
     "data": {
      "text/plain": [
       "(4, 20)"
      ]
     },
     "execution_count": 48,
     "metadata": {},
     "output_type": "execute_result"
    }
   ],
   "source": [
    "np.asarray(rmses).shape"
   ]
  },
  {
   "cell_type": "code",
   "execution_count": 47,
   "id": "27a2ac17",
   "metadata": {},
   "outputs": [
    {
     "data": {
      "text/plain": [
       "array([40.39249799, 40.73528172, 40.73973432, 40.78786566])"
      ]
     },
     "execution_count": 47,
     "metadata": {},
     "output_type": "execute_result"
    }
   ],
   "source": [
    "np.mean(np.asarray(rmses),axis=1)"
   ]
  },
  {
   "cell_type": "markdown",
   "id": "f76c3ea7",
   "metadata": {},
   "source": [
    "# Q5\n",
    "\n",
    "We can extract feature importance information from tree-based models. \n",
    "\n",
    "At each step of the decision tree learning algorithm, it finds the best split. \n",
    "When doing it, we can calculate \"gain\" - the reduction in impurity before and after the split. \n",
    "This gain is quite useful in understanding what are the important features for tree-based models.\n",
    "\n",
    "In Scikit-Learn, tree-based models contain this information in the\n",
    "[`feature_importances_`](https://scikit-learn.org/stable/modules/generated/sklearn.ensemble.RandomForestRegressor.html#sklearn.ensemble.RandomForestRegressor.feature_importances_)\n",
    "field. \n",
    "\n",
    "For this homework question, we'll find the most important feature:\n",
    "\n",
    "* Train the model with these parameters:\n",
    "  * `n_estimators=10`,\n",
    "  * `max_depth=20`,\n",
    "  * `random_state=1`,\n",
    "  * `n_jobs=-1` (optional)\n",
    "* Get the feature importance information from this model"
   ]
  },
  {
   "cell_type": "code",
   "execution_count": 41,
   "id": "94aa64b3",
   "metadata": {},
   "outputs": [],
   "source": [
    "model = RandomForestRegressor(n_estimators=10, max_depth=20, random_state=1,  n_jobs=-1)\n",
    "model.fit(X_train, y_train)\n",
    "\n",
    "importances = model.feature_importances_\n",
    "feature_names = dv.get_feature_names_out()"
   ]
  },
  {
   "cell_type": "code",
   "execution_count": 42,
   "id": "b6161ad6",
   "metadata": {},
   "outputs": [
    {
     "data": {
      "text/html": [
       "<div>\n",
       "<style scoped>\n",
       "    .dataframe tbody tr th:only-of-type {\n",
       "        vertical-align: middle;\n",
       "    }\n",
       "\n",
       "    .dataframe tbody tr th {\n",
       "        vertical-align: top;\n",
       "    }\n",
       "\n",
       "    .dataframe thead th {\n",
       "        text-align: right;\n",
       "    }\n",
       "</style>\n",
       "<table border=\"1\" class=\"dataframe\">\n",
       "  <thead>\n",
       "    <tr style=\"text-align: right;\">\n",
       "      <th></th>\n",
       "      <th>Feature</th>\n",
       "      <th>Importance</th>\n",
       "    </tr>\n",
       "  </thead>\n",
       "  <tbody>\n",
       "    <tr>\n",
       "      <th>27</th>\n",
       "      <td>study_hours_per_week</td>\n",
       "      <td>0.248354</td>\n",
       "    </tr>\n",
       "    <tr>\n",
       "      <th>4</th>\n",
       "      <td>attendance_rate</td>\n",
       "      <td>0.149729</td>\n",
       "    </tr>\n",
       "    <tr>\n",
       "      <th>5</th>\n",
       "      <td>distance_to_school</td>\n",
       "      <td>0.136486</td>\n",
       "    </tr>\n",
       "    <tr>\n",
       "      <th>28</th>\n",
       "      <td>teacher_quality</td>\n",
       "      <td>0.082682</td>\n",
       "    </tr>\n",
       "    <tr>\n",
       "      <th>2</th>\n",
       "      <td>age</td>\n",
       "      <td>0.069311</td>\n",
       "    </tr>\n",
       "  </tbody>\n",
       "</table>\n",
       "</div>"
      ],
      "text/plain": [
       "                 Feature  Importance\n",
       "27  study_hours_per_week    0.248354\n",
       "4        attendance_rate    0.149729\n",
       "5     distance_to_school    0.136486\n",
       "28       teacher_quality    0.082682\n",
       "2                    age    0.069311"
      ]
     },
     "execution_count": 42,
     "metadata": {},
     "output_type": "execute_result"
    }
   ],
   "source": [
    "feature_importance_df = pd.DataFrame({'Feature': feature_names,'Importance': importances}).sort_values(by='Importance', ascending=False)\n",
    "\n",
    "feature_importance_df.head(5)"
   ]
  },
  {
   "cell_type": "markdown",
   "id": "6d9075b4",
   "metadata": {},
   "source": [
    "# Q6\n",
    "\n",
    "Now let's train an XGBoost model! For this question, we'll tune the `eta` parameter:\n",
    "\n",
    "* Install XGBoost\n",
    "* Create DMatrix for train and validation\n",
    "* Create a watchlist\n",
    "* Train a model with these parameters for 100 rounds:\n",
    "\n",
    "```\n",
    "xgb_params = {\n",
    "    'eta': 0.3, \n",
    "    'max_depth': 6,\n",
    "    'min_child_weight': 1,\n",
    "    \n",
    "    'objective': 'reg:squarederror',\n",
    "    'nthread': 8,\n",
    "    \n",
    "    'seed': 1,\n",
    "    'verbosity': 1,\n",
    "}\n",
    "```\n",
    "\n",
    "Now change `eta` from `0.3` to `0.1`."
   ]
  },
  {
   "cell_type": "code",
   "execution_count": 43,
   "id": "502d92b2",
   "metadata": {},
   "outputs": [
    {
     "name": "stdout",
     "output_type": "stream",
     "text": [
      "[0]\ttrain-rmse:42.69384\tval-rmse:44.89114\n",
      "[5]\ttrain-rmse:34.57756\tval-rmse:40.69096\n",
      "[10]\ttrain-rmse:31.63404\tval-rmse:40.48319\n",
      "[15]\ttrain-rmse:29.41497\tval-rmse:40.86107\n",
      "[20]\ttrain-rmse:27.49658\tval-rmse:41.27921\n",
      "[25]\ttrain-rmse:26.34353\tval-rmse:41.57975\n",
      "[30]\ttrain-rmse:24.21076\tval-rmse:41.72928\n",
      "[35]\ttrain-rmse:22.46394\tval-rmse:42.03417\n",
      "[40]\ttrain-rmse:21.35340\tval-rmse:42.24363\n",
      "[45]\ttrain-rmse:20.24355\tval-rmse:42.27966\n",
      "[50]\ttrain-rmse:19.25157\tval-rmse:42.43824\n",
      "[55]\ttrain-rmse:18.28398\tval-rmse:42.54750\n",
      "[60]\ttrain-rmse:17.12178\tval-rmse:42.64446\n",
      "[65]\ttrain-rmse:16.41573\tval-rmse:42.77416\n",
      "[70]\ttrain-rmse:15.78314\tval-rmse:42.84909\n",
      "[75]\ttrain-rmse:14.80007\tval-rmse:43.00760\n",
      "[80]\ttrain-rmse:13.96907\tval-rmse:43.08250\n",
      "[85]\ttrain-rmse:13.39102\tval-rmse:43.16297\n",
      "[90]\ttrain-rmse:12.46485\tval-rmse:43.25161\n",
      "[95]\ttrain-rmse:11.95568\tval-rmse:43.37919\n",
      "[100]\ttrain-rmse:11.27088\tval-rmse:43.45019\n",
      "[105]\ttrain-rmse:10.64345\tval-rmse:43.57431\n",
      "[110]\ttrain-rmse:10.23002\tval-rmse:43.70054\n",
      "[115]\ttrain-rmse:9.62746\tval-rmse:43.75060\n",
      "[120]\ttrain-rmse:9.26842\tval-rmse:43.76322\n",
      "[125]\ttrain-rmse:8.79570\tval-rmse:43.80790\n",
      "[130]\ttrain-rmse:8.24674\tval-rmse:43.96581\n",
      "[135]\ttrain-rmse:7.86947\tval-rmse:43.95880\n",
      "[140]\ttrain-rmse:7.51597\tval-rmse:44.02952\n",
      "[145]\ttrain-rmse:7.17324\tval-rmse:44.08416\n",
      "[150]\ttrain-rmse:6.78705\tval-rmse:44.13992\n",
      "[155]\ttrain-rmse:6.46063\tval-rmse:44.15517\n",
      "[160]\ttrain-rmse:6.18162\tval-rmse:44.15276\n",
      "[165]\ttrain-rmse:5.86914\tval-rmse:44.17877\n",
      "[170]\ttrain-rmse:5.63522\tval-rmse:44.20247\n",
      "[175]\ttrain-rmse:5.35115\tval-rmse:44.20786\n",
      "[180]\ttrain-rmse:5.08000\tval-rmse:44.19565\n",
      "[185]\ttrain-rmse:4.81023\tval-rmse:44.19889\n",
      "[190]\ttrain-rmse:4.61225\tval-rmse:44.23180\n",
      "[195]\ttrain-rmse:4.36538\tval-rmse:44.26143\n",
      "[199]\ttrain-rmse:4.21678\tval-rmse:44.28925\n"
     ]
    },
    {
     "data": {
      "text/plain": [
       "np.float64(44.289253983871625)"
      ]
     },
     "execution_count": 43,
     "metadata": {},
     "output_type": "execute_result"
    }
   ],
   "source": [
    "features = list(dv.get_feature_names_out())\n",
    "dtrain = xgb.DMatrix(X_train, label=y_train, feature_names=features)\n",
    "dval = xgb.DMatrix(X_val, label=y_val, feature_names=features)\n",
    "\n",
    "xgb_params = {\n",
    "    'eta': 0.3, \n",
    "    'max_depth': 6,\n",
    "    'min_child_weight': 1,\n",
    "    \n",
    "    'objective': 'reg:squarederror',\n",
    "    'nthread': 8,\n",
    "    \n",
    "    'seed': 1,\n",
    "    'verbosity': 1,\n",
    "}\n",
    "\n",
    "watchlist = [(dtrain, 'train'), (dval, 'val')]\n",
    "\n",
    "model =  xgb.train(xgb_params, dtrain, num_boost_round=200, verbose_eval=5, evals=watchlist)\n",
    "y_pred = model.predict(dval)\n",
    "\n",
    "np.sqrt(np.mean((y_pred - y_val)**2))"
   ]
  },
  {
   "cell_type": "code",
   "execution_count": 44,
   "id": "b96cca15",
   "metadata": {},
   "outputs": [
    {
     "name": "stdout",
     "output_type": "stream",
     "text": [
      "[0]\ttrain-rmse:45.49999\tval-rmse:47.00533\n",
      "[5]\ttrain-rmse:40.17514\tval-rmse:43.11181\n",
      "[10]\ttrain-rmse:37.07490\tval-rmse:41.39235\n",
      "[15]\ttrain-rmse:35.08521\tval-rmse:40.61341\n",
      "[20]\ttrain-rmse:33.67389\tval-rmse:40.25010\n",
      "[25]\ttrain-rmse:32.55850\tval-rmse:40.12003\n",
      "[30]\ttrain-rmse:31.76039\tval-rmse:40.13806\n",
      "[35]\ttrain-rmse:31.01425\tval-rmse:40.16103\n",
      "[40]\ttrain-rmse:30.13427\tval-rmse:40.17753\n",
      "[45]\ttrain-rmse:29.49040\tval-rmse:40.27366\n",
      "[50]\ttrain-rmse:28.75947\tval-rmse:40.29573\n",
      "[55]\ttrain-rmse:28.17535\tval-rmse:40.40072\n",
      "[60]\ttrain-rmse:27.77264\tval-rmse:40.47477\n",
      "[65]\ttrain-rmse:27.10119\tval-rmse:40.47659\n",
      "[70]\ttrain-rmse:26.61847\tval-rmse:40.55225\n",
      "[75]\ttrain-rmse:26.21281\tval-rmse:40.62564\n",
      "[80]\ttrain-rmse:25.69135\tval-rmse:40.61309\n",
      "[85]\ttrain-rmse:25.14363\tval-rmse:40.66530\n",
      "[90]\ttrain-rmse:24.60413\tval-rmse:40.84708\n",
      "[95]\ttrain-rmse:24.03404\tval-rmse:40.99952\n",
      "[100]\ttrain-rmse:23.47206\tval-rmse:41.06487\n",
      "[105]\ttrain-rmse:22.90972\tval-rmse:41.04114\n",
      "[110]\ttrain-rmse:22.51649\tval-rmse:41.08693\n",
      "[115]\ttrain-rmse:22.20344\tval-rmse:41.10363\n",
      "[120]\ttrain-rmse:21.67442\tval-rmse:41.16913\n",
      "[125]\ttrain-rmse:21.26556\tval-rmse:41.20400\n",
      "[130]\ttrain-rmse:20.84152\tval-rmse:41.29827\n",
      "[135]\ttrain-rmse:20.34061\tval-rmse:41.32391\n",
      "[140]\ttrain-rmse:19.98971\tval-rmse:41.36597\n",
      "[145]\ttrain-rmse:19.63975\tval-rmse:41.40399\n",
      "[150]\ttrain-rmse:19.25063\tval-rmse:41.43809\n",
      "[155]\ttrain-rmse:18.92605\tval-rmse:41.43691\n",
      "[160]\ttrain-rmse:18.71276\tval-rmse:41.47835\n",
      "[165]\ttrain-rmse:18.53789\tval-rmse:41.48812\n",
      "[170]\ttrain-rmse:18.15238\tval-rmse:41.51753\n",
      "[175]\ttrain-rmse:17.89041\tval-rmse:41.51598\n",
      "[180]\ttrain-rmse:17.69018\tval-rmse:41.53173\n",
      "[185]\ttrain-rmse:17.36449\tval-rmse:41.59963\n",
      "[190]\ttrain-rmse:17.14933\tval-rmse:41.66296\n",
      "[195]\ttrain-rmse:16.82271\tval-rmse:41.70068\n",
      "[199]\ttrain-rmse:16.55863\tval-rmse:41.77135\n"
     ]
    },
    {
     "data": {
      "text/plain": [
       "np.float64(41.77134546070907)"
      ]
     },
     "execution_count": 44,
     "metadata": {},
     "output_type": "execute_result"
    }
   ],
   "source": [
    "features = list(dv.get_feature_names_out())\n",
    "dtrain = xgb.DMatrix(X_train, label=y_train, feature_names=features)\n",
    "dval = xgb.DMatrix(X_val, label=y_val, feature_names=features)\n",
    "\n",
    "xgb_params = {\n",
    "    'eta': 0.1, \n",
    "    'max_depth': 6,\n",
    "    'min_child_weight': 1,\n",
    "    \n",
    "    'objective': 'reg:squarederror',\n",
    "    'nthread': 8,\n",
    "    \n",
    "    'seed': 1,\n",
    "    'verbosity': 1,\n",
    "}\n",
    "\n",
    "watchlist = [(dtrain, 'train'), (dval, 'val')]\n",
    "\n",
    "model =  xgb.train(xgb_params, dtrain, num_boost_round=200, verbose_eval=5, evals=watchlist)\n",
    "y_pred = model.predict(dval)\n",
    "\n",
    "np.sqrt(np.mean((y_pred - y_val)**2))"
   ]
  }
 ],
 "metadata": {
  "kernelspec": {
   "display_name": "Python 3",
   "language": "python",
   "name": "python3"
  },
  "language_info": {
   "codemirror_mode": {
    "name": "ipython",
    "version": 3
   },
   "file_extension": ".py",
   "mimetype": "text/x-python",
   "name": "python",
   "nbconvert_exporter": "python",
   "pygments_lexer": "ipython3",
   "version": "3.12.1"
  }
 },
 "nbformat": 4,
 "nbformat_minor": 5
}
